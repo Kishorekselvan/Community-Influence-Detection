{
 "cells": [
  {
   "cell_type": "code",
   "execution_count": 6,
   "id": "dd89f6e5",
   "metadata": {
    "vscode": {
     "languageId": "plaintext"
    }
   },
   "outputs": [
    {
     "ename": "ModuleNotFoundError",
     "evalue": "No module named 'src'",
     "output_type": "error",
     "traceback": [
      "\u001b[31m---------------------------------------------------------------------------\u001b[39m",
      "\u001b[31mModuleNotFoundError\u001b[39m                       Traceback (most recent call last)",
      "\u001b[36mCell\u001b[39m\u001b[36m \u001b[39m\u001b[32mIn[6]\u001b[39m\u001b[32m, line 10\u001b[39m\n\u001b[32m      8\u001b[39m \u001b[38;5;28;01mimport\u001b[39;00m\u001b[38;5;250m \u001b[39m\u001b[34;01mpandas\u001b[39;00m\u001b[38;5;250m \u001b[39m\u001b[38;5;28;01mas\u001b[39;00m\u001b[38;5;250m \u001b[39m\u001b[34;01mpd\u001b[39;00m\n\u001b[32m      9\u001b[39m \u001b[38;5;66;03m# These imports rely on the path setup above\u001b[39;00m\n\u001b[32m---> \u001b[39m\u001b[32m10\u001b[39m \u001b[38;5;28;01mfrom\u001b[39;00m\u001b[38;5;250m \u001b[39m\u001b[34;01msrc\u001b[39;00m\u001b[34;01m.\u001b[39;00m\u001b[34;01minfluence_metrics\u001b[39;00m\u001b[38;5;250m \u001b[39m\u001b[38;5;28;01mimport\u001b[39;00m compute_influence_metrics, get_top_k_influencers\n\u001b[32m     12\u001b[39m \u001b[38;5;66;03m# Step 2: Load the preprocessed Facebook graph\u001b[39;00m\n\u001b[32m     13\u001b[39m fb_file = \u001b[33m\"\u001b[39m\u001b[33m../data/processed/facebook_cleaned.edgelist\u001b[39m\u001b[33m\"\u001b[39m \n",
      "\u001b[31mModuleNotFoundError\u001b[39m: No module named 'src'"
     ]
    }
   ],
   "source": []
  },
  {
   "cell_type": "code",
   "execution_count": 1,
   "id": "837ff82b-7e40-40e6-9362-52b10edfe7a6",
   "metadata": {},
   "outputs": [
    {
     "name": "stdout",
     "output_type": "stream",
     "text": [
      "SUCCESS: SRC path added to system.\n"
     ]
    }
   ],
   "source": [
    "# --- File: influence_analysis.ipynb ---\n",
    "# Cell 1: Setup Paths and Imports using the ABSOLUTE PATH\n",
    "\n",
    "import sys\n",
    "import os\n",
    "\n",
    "# Define the absolute path to your project's SRC folder.\n",
    "# NOTE: YOU MUST PASTE YOUR ACTUAL PATH HERE, replacing the example below.\n",
    "# Use double backslashes (\\\\) or forward slashes (/) for Windows paths.\n",
    "ABSOLUTE_SRC_PATH = \"C:/Users/hari2/Documents/DM/src\" \n",
    "\n",
    "# Add the path to the system path list\n",
    "sys.path.append(ABSOLUTE_SRC_PATH) \n",
    "\n",
    "# --- Verification ---\n",
    "if os.path.isdir(ABSOLUTE_SRC_PATH):\n",
    "    print(\"SUCCESS: SRC path added to system.\")\n",
    "else:\n",
    "    print(f\"ERROR: Path {ABSOLUTE_SRC_PATH} does not exist. Please correct the ABSOLUTE_SRC_PATH.\")\n",
    "\n",
    "\n",
    "import networkx as nx\n",
    "import pandas as pd\n",
    "# This import should now work!\n",
    "from influence_metrics import compute_influence_metrics, get_top_k_influencers"
   ]
  },
  {
   "cell_type": "code",
   "execution_count": 2,
   "id": "90aa68e7-fa47-4a2a-8d0f-a42f6cbbc598",
   "metadata": {},
   "outputs": [
    {
     "name": "stdout",
     "output_type": "stream",
     "text": [
      "Graph loaded for influence analysis: Nodes=4039, Edges=88234\n",
      "Computing PageRank...\n",
      "Computing Eigenvector Centrality...\n",
      "Computing Betweenness Centrality...\n",
      "Metrics computed. Runtimes: PageRank=0.58s, Eigenvector=1.26s, Betweenness=146.32s\n",
      "Influence scores saved to ../results/influence_scores.csv\n",
      "\n",
      "--- Top 20 by PageRank ---\n",
      "3437    0.007615\n",
      "107     0.006936\n",
      "1684    0.006367\n",
      "0       0.006290\n",
      "1912    0.003877\n",
      "348     0.002348\n",
      "686     0.002219\n",
      "3980    0.002170\n",
      "414     0.001800\n",
      "698     0.001317\n",
      "483     0.001297\n",
      "3830    0.001184\n",
      "376     0.000901\n",
      "2047    0.000841\n",
      "56      0.000804\n",
      "25      0.000800\n",
      "828     0.000789\n",
      "322     0.000787\n",
      "475     0.000785\n",
      "428     0.000780\n",
      "Name: PageRank, dtype: float64\n",
      "\n",
      "--- Top 20 by Eigenvector_Centrality ---\n",
      "1912    0.095407\n",
      "2266    0.086983\n",
      "2206    0.086052\n",
      "2233    0.085173\n",
      "2464    0.084279\n",
      "2142    0.084193\n",
      "2218    0.084156\n",
      "2078    0.084136\n",
      "2123    0.083671\n",
      "1993    0.083532\n",
      "2410    0.083518\n",
      "2244    0.083342\n",
      "2507    0.083273\n",
      "2240    0.083057\n",
      "2340    0.083053\n",
      "2229    0.083008\n",
      "1985    0.082738\n",
      "2088    0.082469\n",
      "2073    0.082256\n",
      "2220    0.082156\n",
      "Name: Eigenvector_Centrality, dtype: float64\n",
      "\n",
      "--- Top 20 by Betweenness_Centrality ---\n",
      "107     0.480518\n",
      "1684    0.337797\n",
      "3437    0.236115\n",
      "1912    0.229295\n",
      "1085    0.149015\n",
      "0       0.146306\n",
      "698     0.115330\n",
      "567     0.096310\n",
      "58      0.084360\n",
      "428     0.064309\n",
      "563     0.062780\n",
      "860     0.057826\n",
      "414     0.047633\n",
      "1577    0.039785\n",
      "348     0.037998\n",
      "1718    0.037343\n",
      "686     0.029722\n",
      "594     0.028803\n",
      "136     0.026870\n",
      "3980    0.024820\n",
      "Name: Betweenness_Centrality, dtype: float64\n",
      "\n",
      "--- Correlation Matrix of Influence Metrics ---\n",
      "                        PageRank  Eigenvector_Centrality  \\\n",
      "PageRank                1.000000                0.081749   \n",
      "Eigenvector_Centrality  0.081749                1.000000   \n",
      "Betweenness_Centrality  0.768196                0.019522   \n",
      "Degree                  0.671382                0.573532   \n",
      "\n",
      "                        Betweenness_Centrality    Degree  \n",
      "PageRank                              0.768196  0.671382  \n",
      "Eigenvector_Centrality                0.019522  0.573532  \n",
      "Betweenness_Centrality                1.000000  0.451520  \n",
      "Degree                                0.451520  1.000000  \n"
     ]
    }
   ],
   "source": [
    "# Step 2: Load the preprocessed Facebook graph\n",
    "fb_file = \"../data/processed/facebook_cleaned.edgelist\" \n",
    "# NOTE: If this path fails (FileNotFoundError), you must first run your preprocessing script.\n",
    "try:\n",
    "    G_fb = nx.read_edgelist(fb_file, nodetype=int)\n",
    "    print(f\"Graph loaded for influence analysis: Nodes={G_fb.number_of_nodes()}, Edges={G_fb.number_of_edges()}\")\n",
    "except FileNotFoundError:\n",
    "    print(f\"ERROR: Graph file not found at {fb_file}. Please ensure your data preprocessing notebook was run successfully.\")\n",
    "    # Exit gracefully if the graph is missing\n",
    "    G_fb = None\n",
    "\n",
    "\n",
    "if G_fb:\n",
    "    # Step 3: Compute all influence metrics (PageRank, Eigenvector, Betweenness)\n",
    "    df_influence_scores = compute_influence_metrics(\n",
    "        G_fb, \n",
    "        save_path=\"../results/influence_scores.csv\"\n",
    "    )\n",
    "\n",
    "    # Step 4: Identify and display Top-20 Influencers\n",
    "    top_influencers = get_top_k_influencers(df_influence_scores, k=20)\n",
    "\n",
    "    # Step 5: Validation - Check correlation between metrics (as per project plan)\n",
    "    df_influence_scores['Degree'] = pd.Series(dict(G_fb.degree()))\n",
    "\n",
    "    # Calculate and display the correlation matrix\n",
    "    correlation_matrix = df_influence_scores.corr()\n",
    "    print(\"\\n--- Correlation Matrix of Influence Metrics ---\")\n",
    "    print(correlation_matrix)\n",
    "    correlation_matrix.to_csv(\"../reports/influence_correlation_matrix.csv\")\n",
    "\n",
    "else:\n",
    "    print(\"Execution halted due to missing graph file.\")"
   ]
  },
  {
   "cell_type": "code",
   "execution_count": null,
   "id": "3a96297f-1c57-45b3-9ef7-a2c77954a864",
   "metadata": {},
   "outputs": [],
   "source": [
    " "
   ]
  }
 ],
 "metadata": {
  "kernelspec": {
   "display_name": "DM Project (Virtual Environment)",
   "language": "python",
   "name": "dm_project_kernel"
  },
  "language_info": {
   "codemirror_mode": {
    "name": "ipython",
    "version": 3
   },
   "file_extension": ".py",
   "mimetype": "text/x-python",
   "name": "python",
   "nbconvert_exporter": "python",
   "pygments_lexer": "ipython3",
   "version": "3.11.9"
  }
 },
 "nbformat": 4,
 "nbformat_minor": 5
}
